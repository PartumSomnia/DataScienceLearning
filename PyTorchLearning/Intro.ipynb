{
 "cells": [
  {
   "cell_type": "code",
   "execution_count": 53,
   "id": "efdeea27",
   "metadata": {},
   "outputs": [
    {
     "data": {
      "text/plain": [
       "'1.13.1'"
      ]
     },
     "execution_count": 53,
     "metadata": {},
     "output_type": "execute_result"
    }
   ],
   "source": [
    "import numpy as np\n",
    "import torch\n",
    "from torch import nn\n",
    "import matplotlib.pyplot as plt\n",
    "torch.__version__"
   ]
  },
  {
   "attachments": {},
   "cell_type": "markdown",
   "id": "d773378e",
   "metadata": {},
   "source": [
    "### Data: preparing and loading\n",
    "#### Linear regression mode\n",
    "$Y_i = f(X_i,\\beta)+e_i$\n",
    "$Y_i$ - vairables, depndent, $f$ - function, $X_i$ variables, independent, $\\beta$ uknown parameter, $e_i$ error terms"
   ]
  },
  {
   "cell_type": "code",
   "execution_count": 54,
   "id": "795d5e2b",
   "metadata": {},
   "outputs": [
    {
     "name": "stdout",
     "output_type": "stream",
     "text": [
      "torch.Size([50, 1]) torch.Size([50, 1])\n"
     ]
    }
   ],
   "source": [
    "# given pars\n",
    "weight = 0.7\n",
    "bias = 0.3\n",
    "\n",
    "# data\n",
    "start = 0\n",
    "end = 1\n",
    "step = 0.02\n",
    "X = torch.arange(start, end, step).unsqueeze(dim=1) # add extra dim\n",
    "y = weight * X + bias # linear regression eq: Gradient + Intercept\n",
    "print(X.shape, y.shape)\n"
   ]
  },
  {
   "attachments": {},
   "cell_type": "markdown",
   "id": "df10f5d5",
   "metadata": {},
   "source": [
    "Consider X and learn associated values Y and the relationship between them\n",
    "Assuming that equition is unknown\n",
    "\n",
    "1. Training set (60-80\\%)\n",
    "2. Validation set (10-20\\%)\n",
    "3. Test set (10-20\\%)   [ test generalization of the model (ability to perform on the new data)]\n",
    "\n",
    "Data has to be split into three tests. (validation is option)"
   ]
  },
  {
   "cell_type": "code",
   "execution_count": 55,
   "id": "5f5c19e7",
   "metadata": {},
   "outputs": [
    {
     "data": {
      "text/plain": [
       "(40, 40, 10, 10)"
      ]
     },
     "execution_count": 55,
     "metadata": {},
     "output_type": "execute_result"
    }
   ],
   "source": [
    "# create train/test split (basic method)\n",
    "train_split = int(0.8 * len(X))\n",
    "X_train, y_train = X[:train_split], y[:train_split]\n",
    "X_test, y_test = X[train_split:], y[train_split:]\n",
    "len(X_train), len(y_train), len(X_test), len(y_test) # values as expected 80/20 split"
   ]
  },
  {
   "cell_type": "code",
   "execution_count": 56,
   "id": "c1f4e6c3",
   "metadata": {},
   "outputs": [],
   "source": [
    "def plot_predictions(train_data=X_train, train_labels=y_train, test_data = X_test, test_labels=y_test, predictions=None):\n",
    "    \"\"\"plots and comapres\"\"\"\n",
    "    plt.figure(figsize=(5,3))\n",
    "    # plot training\n",
    "    plt.scatter(train_data,train_labels,c='b',s=4,label=\"Training data\")\n",
    "    # plot testing \n",
    "    plt.scatter(test_data,test_labels,c='g',s=4,label=\"Testing data\")\n",
    "    # are there are predictions:\n",
    "    if (predictions is not None):\n",
    "        # plot predictions\n",
    "        assert len(test_data) == len(predictions)\n",
    "        plt.scatter(test_data,predictions,c='r',s=4,label=\"Predictions data\")\n",
    "    plt.legend(prop={\"size\":12})\n",
    "\n"
   ]
  },
  {
   "cell_type": "code",
   "execution_count": 57,
   "id": "1c4a0d07",
   "metadata": {},
   "outputs": [
    {
     "data": {
      "image/png": "[encoded data removed]",
      "text/plain": [
       "<Figure size 500x300 with 1 Axes>"
      ]
     },
     "metadata": {},
     "output_type": "display_data"
    }
   ],
   "source": [
    "plot_predictions()"
   ]
  },
  {
   "attachments": {},
   "cell_type": "markdown",
   "id": "335552f0",
   "metadata": {},
   "source": [
    "### 2. Building a model\n",
    "take the blue dots and learn to get the green dots Y values right\n",
    "Red dots -- on top of the green dots\n",
    "Use linear regression model for NN"
   ]
  },
  {
   "cell_type": "code",
   "execution_count": 58,
   "id": "56fbae5a",
   "metadata": {},
   "outputs": [],
   "source": [
    "# create a linear regression model class (OOP)\n",
    "class LinearRegressionModel(nn.Module):\n",
    "    \"\"\" Use nn.Module\n",
    "        nn.Mudule is the 'lego' bricks\n",
    "        The model \n",
    "        1. will start from random parameters for : self.weights and self.bias\n",
    "        2. update them to represent the test set data.\n",
    "        \n",
    "        The \"learning\" is done via an angorithm: \n",
    "        1. \"Gradient Descent\" (see requires_grad=True below)\n",
    "        2. Back propagation\n",
    "        Tracks the weights and bias graidents and updates them via grad. descent and back propagation\n",
    "        \n",
    "    \"\"\"\n",
    "    def __init__(self):\n",
    "        super().__init__() # \n",
    "        # Initialize model parameters (anything, parameters, values, functions)\n",
    "        self.weights = nn.Parameter(torch.randn(1, # random starting point\n",
    "                                                requires_grad=True, # track graident \n",
    "                                                dtype=torch.float))\n",
    "        self.bias = nn.Parameter(torch.randn(1, # random starting point\n",
    "                                            requires_grad=True, # track graident \n",
    "                                            dtype=torch.float))\n",
    "    # Forward method to define the computation in the model (Required by nn.Module)\n",
    "    def forward(self, x:torch.Tensor)->torch.Tensor: \n",
    "        \"\"\" Overrides the base class method.\n",
    "            x: input\n",
    "            THis is a linear regression formula.\n",
    "            Same that was used to create the data\n",
    "            Each time the class is called the 'forward' is called \n",
    "        \"\"\"\n",
    "        return self.weights * x + self.bias"
   ]
  },
  {
   "attachments": {},
   "cell_type": "markdown",
   "id": "b0df8a82",
   "metadata": {},
   "source": [
    "### PyTorck model building essencials\n",
    "* `torck.nn` - for computtational graphs, neutal networ is a computational graph\n",
    "* `torch.nn.Parameter` - what should be learned. USually, PyTorch layer from `torch.nn` sets it\n",
    "* `torch.nn.Module` - base class for all other NN modules. If subclassed, `forward` must be overriden\n",
    "* `torch.optin` - optimizer, helps with grad. descend (optimizes weithgts and biases)\n",
    "* `def forward()` - all nn.Module require this to be overriden. Defines the forward computation"
   ]
  },
  {
   "attachments": {},
   "cell_type": "markdown",
   "id": "2f48573a",
   "metadata": {},
   "source": [
    "### Checking the PyTorch model\n",
    "Using `.parameters()`"
   ]
  },
  {
   "cell_type": "code",
   "execution_count": 59,
   "id": "967f6448",
   "metadata": {},
   "outputs": [
    {
     "data": {
      "text/plain": [
       "[Parameter containing:\n",
       " tensor([0.3367], requires_grad=True),\n",
       " Parameter containing:\n",
       " tensor([0.1288], requires_grad=True)]"
      ]
     },
     "execution_count": 59,
     "metadata": {},
     "output_type": "execute_result"
    }
   ],
   "source": [
    "# create a random seed\n",
    "torch.manual_seed(42)\n",
    "# create an instance of the model (subcalss of nn.Module)\n",
    "model_0 = LinearRegressionModel()\n",
    "list(model_0.parameters()) # random values obtained (same each time because of the fixed random seed)"
   ]
  },
  {
   "cell_type": "code",
   "execution_count": 60,
   "id": "29ee7571",
   "metadata": {},
   "outputs": [
    {
     "name": "stdout",
     "output_type": "stream",
     "text": [
      "OrderedDict([('weights', tensor([0.3367])), ('bias', tensor([0.1288]))])\n"
     ]
    }
   ],
   "source": [
    "# list named parameters `state_dict()`\n",
    "print(model_0.state_dict())\n",
    "# The goal is to get these state values closer to what explains the data"
   ]
  },
  {
   "cell_type": "code",
   "execution_count": 62,
   "id": "3527b90f",
   "metadata": {},
   "outputs": [
    {
     "data": {
      "image/png": "[encoded data removed]",
      "text/plain": [
       "<Figure size 500x300 with 1 Axes>"
      ]
     },
     "metadata": {},
     "output_type": "display_data"
    }
   ],
   "source": [
    "# Consider `torck.inference_model()` to make predictions\n",
    "# Check the model's predictive power, predicting `y_test`, given `X_test`\n",
    "# When data is given, it is passed through forward method\n",
    "with torch.inference_mode(): # with `with` -- turn off the gradient tracking! Faster for inferences\n",
    "    y_preds = model_0(X_test)\n",
    "# This is equivalent to  but includes but tracks the gradient!\n",
    "y_preds = model_0(X_test)\n",
    "# this also dones not track 'grad' but also lacks something...\n",
    "with torch.no_grad():\n",
    "    y_preds = model_0(X_test)\n",
    "\n",
    "y_preds\n",
    "plot_predictions(predictions=y_preds)\n",
    "# random initial weights and biases gave random result :)\n",
    "\n",
    "# THis is eq"
   ]
  },
  {
   "attachments": {},
   "cell_type": "markdown",
   "id": "8d6d4558",
   "metadata": {},
   "source": [
    "### Model training & evaluation model performace\n",
    "\n",
    "Using loss function to evaluate model performace;  \n",
    "Loss function (cost function or criterion):  \n",
    "**Loss fucntion** a function to measure how wrong the model prediction. The lower the better.  \n",
    "**Optimizer** takes into account loss and adjust the model parameters (weights, biases) `list(model.parameters())` or `model_0.state_dict()` to imporve the loss function (in PyTorch: via training loop, testing loop)\n",
    "\n",
    "We consider `nn.L1Loss` or **mean absolute error (MAE)** creates a criterion=loss function, that measures MAE between each element and its actial value."
   ]
  },
  {
   "cell_type": "code",
   "execution_count": 69,
   "id": "72813107",
   "metadata": {},
   "outputs": [],
   "source": [
    "''' setup a loss function '''\n",
    "loss_fn = nn.L1Loss()\n",
    "# wee need t ominimize the distances between red and \n",
    "# green dots and MAE will also go down\n",
    "\n",
    "''' SEtup an optimizer'''\n",
    "# usually, Loss function and optimizer comes together in a package\n",
    "# see torch.optim()\n",
    "# optimizer 'talks' to the loss function and checks whether \n",
    "# changes improves loss function output\n",
    "# e.g., SGD - stocahstic gradiant descend or Adam\n",
    "# Model improves by taking random numbers \n",
    "# Once a step that minimises the loss function is found, it \n",
    "# will move in that direction to minimises further\n",
    "optimizer = torch.optim.SGD(params=model_0.parameters(),\n",
    "                            lr = 0.01)\n",
    "# lr = learning rate VERY IMPORTANT hyperparameter (set)\n",
    "# Controls how much a parameter is adjusted after each \n",
    "# 'good' guess of the SGR (adjust a little but or a lot)"
   ]
  },
  {
   "attachments": {},
   "cell_type": "markdown",
   "id": "69eab0c7",
   "metadata": {},
   "source": [
    "### Building a training loop and a testing loop\n",
    "0. Loop through the data and do...\n",
    "1. Forward pass (dat amoving from the input to the output layer) to make predicitons = (**forward propagation**)\n",
    "2. Calculate the loss (compare forward pass predicitons to groud truth layer)\n",
    "3. Optimizer zero grad\n",
    "4. Loss backwards (moves back through network and compute gradients of each of the model parameters with respect to the loss) **back propagation**\n",
    "5. Optimizer steps (use optimizer to adjust model parameters to change parameters/to improve the loss) (**gradient descend**) \n",
    "\n",
    "Optimizer compute a Loss-curve with all parameters on X axis and value of hte loss function on the y, and tries to find the minimum of this hypersurface. This refers to as gradient descent. \n",
    "Takes `model.params` and `lr` = learning rate, where the latter is a **stepsize** of the gradient descend. See also learning scheduling and convergence. \n",
    "\n",
    "Idea: if gradient of the loss equal zero, then the loss is equal zero\n"
   ]
  },
  {
   "cell_type": "code",
   "execution_count": 73,
   "id": "c86e56f5",
   "metadata": {},
   "outputs": [
    {
     "name": "stdout",
     "output_type": "stream",
     "text": [
      "[Parameter containing:\n",
      "tensor([0.3367], requires_grad=True), Parameter containing:\n",
      "tensor([0.1288], requires_grad=True)]\n"
     ]
    }
   ],
   "source": [
    "# show parameters (they require grad (as in default train))\n",
    "with torch.inference_mode():\n",
    "    print(list(model_0.parameters()))"
   ]
  },
  {
   "cell_type": "code",
   "execution_count": 76,
   "id": "10d6d8e0",
   "metadata": {},
   "outputs": [],
   "source": [
    "# an epoch is one loop through the data (epoch is hyperpar.)\n",
    "epochs = 1\n",
    "\n",
    "### TRAINING\n",
    "# 0. loop through the data\n",
    "for epoch in range(epochs):\n",
    "    # Set model to training mode: (default training)\n",
    "    # > All parameters that need grad. require grad now\n",
    "    model_0.train()\n",
    "\n",
    "    # 1. implement forward pass (forward function)\n",
    "    # Learn partents on the train. data to eval. test data\n",
    "    y_pred = model_0(X_train)\n",
    "\n",
    "    # 2. Calculate the loss (MAE) in this case\n",
    "    loss = loss_fn(y_pred, y_train) # (input,target)\n",
    "\n",
    "    # 3. Optimizer 0-grad\n",
    "    optimizer.zero_grad()\n",
    "\n",
    "    # 4. Perform back propagation on the loss w/r model pars.\n",
    "    # See youtube from 3Ble1Broun, \n",
    "    # Compute gradient of the loss func. with respect to model pars.\n",
    "    # Find the minimum of the loss function (gradient extremum)\n",
    "    loss.backward() # \n",
    "\n",
    "    # 5. Step the optimizer (Perform gradient descend)\n",
    "    # Optimizer cahnges accumulate through the loop \n",
    "    # (hast to be szeroed first in `zero_grad()`)\n",
    "    # This is one of these 'frog leap' steps down the gradient curve\n",
    "    optimizer.step() # always after loss.bachwards()\n",
    "\n",
    "    # 5. Evaluate model. turns off the gradient tracking\n",
    "    model_0.eval()\n",
    "    \n"
   ]
  },
  {
   "cell_type": "code",
   "execution_count": null,
   "id": "21d81077",
   "metadata": {},
   "outputs": [],
   "source": []
  }
 ],
 "metadata": {
  "kernelspec": {
   "display_name": "Python 3",
   "language": "python",
   "name": "python3"
  },
  "language_info": {
   "codemirror_mode": {
    "name": "ipython",
    "version": 3
   },
   "file_extension": ".py",
   "mimetype": "text/x-python",
   "name": "python",
   "nbconvert_exporter": "python",
   "pygments_lexer": "ipython3",
   "version": "3.9.16"
  }
 },
 "nbformat": 4,
 "nbformat_minor": 5
}
